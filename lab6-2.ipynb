{
 "cells": [
  {
   "cell_type": "code",
   "execution_count": 36,
   "metadata": {},
   "outputs": [
    {
     "name": "stdout",
     "output_type": "stream",
     "text": [
      "ชื่อ :  nina\n",
      "เงินเดือน :  25000\n",
      "ชั่วโมงล่วงเวลา :  56\n",
      "เงิน ot :  8400\n",
      "เงินเดือนทั้งหมด :  33400\n"
     ]
    }
   ],
   "source": [
    "\n",
    "name = str(input(\"ชื่อ\"))\n",
    "money = int(input(\"เงินเดือน\"))\n",
    "ot = int(input(\"ชั่วโมง\"))\n",
    "\n",
    "print(\"ชื่อ : \",name)\n",
    "print(\"เงินเดือน : \",money)\n",
    "print(\"ชั่วโมงล่วงเวลา : \",ot)\n",
    "\n",
    "def k(a, b):\n",
    "    d = b*150\n",
    "    h = b*100\n",
    "    if ot >= 40:\n",
    "        s = a + d\n",
    "        print(\"เงิน ot : \", d)\n",
    "        return s\n",
    "    else:\n",
    "        \n",
    "        s = a + h\n",
    "        print(\"เงิน ot : \", h)\n",
    "        return s     \n",
    "    \n",
    "print(\"เงินเดือนทั้งหมด : \", k(money, ot))\n",
    "    "
   ]
  }
 ],
 "metadata": {
  "kernelspec": {
   "display_name": "base",
   "language": "python",
   "name": "python3"
  },
  "language_info": {
   "codemirror_mode": {
    "name": "ipython",
    "version": 3
   },
   "file_extension": ".py",
   "mimetype": "text/x-python",
   "name": "python",
   "nbconvert_exporter": "python",
   "pygments_lexer": "ipython3",
   "version": "3.7.16"
  }
 },
 "nbformat": 4,
 "nbformat_minor": 2
}
